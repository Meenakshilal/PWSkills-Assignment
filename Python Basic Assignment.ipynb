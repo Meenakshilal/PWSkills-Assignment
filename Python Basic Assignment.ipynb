{
 "cells": [
  {
   "cell_type": "markdown",
   "id": "cb484d3f-6cae-4f11-a62f-b4d655fe41b2",
   "metadata": {},
   "source": [
    "1. Declare two variables, `x` and `y`, and assign them integer values. Swap the\n",
    "values of these variables without using any temporary variable."
   ]
  },
  {
   "cell_type": "code",
   "execution_count": 5,
   "id": "c64a511a-b517-4af5-8d9f-b3e68cedb119",
   "metadata": {},
   "outputs": [
    {
     "name": "stdout",
     "output_type": "stream",
     "text": [
      "Value of x is 3\n",
      "Value of y is 5\n"
     ]
    }
   ],
   "source": [
    "x = 5\n",
    "y = 3\n",
    "\n",
    "x = x+y\n",
    "y = x-y\n",
    "x = x-y\n",
    "\n",
    "print(\"Value of x is\",x)\n",
    "print(\"Value of y is\",y)"
   ]
  },
  {
   "cell_type": "markdown",
   "id": "5e3dd616-ed88-4a91-9961-e741c4b818f9",
   "metadata": {},
   "source": [
    "2.Create a program that calculates the area of a rectangle. Take the length and\n",
    "width as inputs from the user and store them in variables. Calculate and\n",
    "display the area."
   ]
  },
  {
   "cell_type": "code",
   "execution_count": 2,
   "id": "35410c20-6ace-4388-b179-80ae80710f07",
   "metadata": {},
   "outputs": [
    {
     "name": "stdin",
     "output_type": "stream",
     "text": [
      "enter the length in cm 4\n",
      "enter the width in cm 12\n"
     ]
    },
    {
     "name": "stdout",
     "output_type": "stream",
     "text": [
      "Area of a rectangle with length =  4 and Width = 12 is  48\n"
     ]
    }
   ],
   "source": [
    "Length = int(input(\"enter the length in cm\"))\n",
    "Width = int(input(\"enter the width in cm\"))\n",
    "\n",
    "Area = Length * Width\n",
    "print (\"Area of a rectangle with length = \",Length, \"and Width =\", Width, \"is \",Area)"
   ]
  },
  {
   "cell_type": "markdown",
   "id": "acb85cb9-3668-4f48-ad90-bdb7e9b38c1b",
   "metadata": {},
   "source": [
    "3. Write a Python program that converts temperatures from Celsius to\n",
    "Fahrenheit. Take the temperature in Celsius as input, store it in a variable,\n",
    "convert it to Fahrenheit, and display the result."
   ]
  },
  {
   "cell_type": "code",
   "execution_count": 2,
   "id": "7d5fbadb-fb1a-4386-9ad2-e98c63a2c555",
   "metadata": {},
   "outputs": [
    {
     "name": "stdin",
     "output_type": "stream",
     "text": [
      "enter the temperature in celsius to convert it to Fahrenheit 12\n"
     ]
    },
    {
     "name": "stdout",
     "output_type": "stream",
     "text": [
      "12 Celsius is  53.6  Fahrenheit\n"
     ]
    }
   ],
   "source": [
    "temp_C = int(input(\"enter the temperature in celsius to convert it to Fahrenheit\"))\n",
    "temp_f = (temp_C * 9/5) + 32\n",
    "print(temp_C,\"Celsius is \",temp_f,\" Fahrenheit\")"
   ]
  },
  {
   "cell_type": "markdown",
   "id": "1445fa9b-2bdc-4b0f-8e47-1b66a83ba8e2",
   "metadata": {},
   "source": [
    "4. Write a Python program that takes a string as input and prints the length of\n",
    "the string."
   ]
  },
  {
   "cell_type": "code",
   "execution_count": 6,
   "id": "015b7377-fd43-4e83-8920-19621fd1be9f",
   "metadata": {},
   "outputs": [
    {
     "name": "stdin",
     "output_type": "stream",
     "text": [
      "Enter a string to calculate the length: Meena\n"
     ]
    },
    {
     "name": "stdout",
     "output_type": "stream",
     "text": [
      "Length of entered string is 5\n"
     ]
    }
   ],
   "source": [
    "String = input(\"Enter a string to calculate the length:\")\n",
    "length = 0\n",
    "for i in String:\n",
    "    length += 1\n",
    "print(\"Length of entered string is\", length)"
   ]
  },
  {
   "cell_type": "markdown",
   "id": "58d412db-6dec-4bb0-bd83-2c4d70b198b5",
   "metadata": {},
   "source": [
    "5. Create a program that takes a sentence from the user and counts the number\n",
    "of vowels (a, e, i, o, u) in the string."
   ]
  },
  {
   "cell_type": "code",
   "execution_count": 8,
   "id": "db314712-3350-4838-a60b-6537902c837e",
   "metadata": {},
   "outputs": [
    {
     "name": "stdin",
     "output_type": "stream",
     "text": [
      "Enter a sentence to count the number of vowels: I love myself\n"
     ]
    },
    {
     "name": "stdout",
     "output_type": "stream",
     "text": [
      "Vowels in the entered sentence are: 4\n"
     ]
    }
   ],
   "source": [
    "sntnc = input(\"Enter a sentence to count the number of vowels:\")\n",
    "vwl = 0\n",
    "for i in sntnc:\n",
    "    if i == \"a\" or i == \"A\":\n",
    "        vwl +=1\n",
    "    elif i == \"e\" or i == \"E\":\n",
    "        vwl +=1\n",
    "    elif i == \"i\" or i == \"I\":\n",
    "        vwl +=1\n",
    "    elif i == \"o\" or i == \"O\":\n",
    "        vwl +=1\n",
    "    elif i == \"u\" or i == \"U\":\n",
    "            vwl +=1\n",
    "print (\"Vowels in the entered sentence are:\",vwl)    "
   ]
  },
  {
   "cell_type": "markdown",
   "id": "8b222123-da4f-408d-b571-94ca90e4305b",
   "metadata": {},
   "source": [
    "6. Given a string, reverse the order of characters using string slicing and print\n",
    "the reversed string."
   ]
  },
  {
   "cell_type": "code",
   "execution_count": 15,
   "id": "65ca6838-8eb8-4326-be89-a167053de28c",
   "metadata": {},
   "outputs": [
    {
     "name": "stdout",
     "output_type": "stream",
     "text": [
      "initial string was Meenakshi ,reversed string is ihskaneeM\n"
     ]
    }
   ],
   "source": [
    "string = \"Meenakshi\"\n",
    "reversed_order = string[::-1]\n",
    "print(\"initial string was\", string,\",reversed string is\", reversed_order)"
   ]
  },
  {
   "cell_type": "markdown",
   "id": "e4152550-7627-494c-818c-ca23bf7bcccc",
   "metadata": {},
   "source": [
    "7. Write a program that takes a string as input and checks if it is a palindrome\n",
    "(reads the same forwards and backwards)."
   ]
  },
  {
   "cell_type": "code",
   "execution_count": 21,
   "id": "7a128bef-0358-49c1-af9b-0c300d76a24f",
   "metadata": {},
   "outputs": [
    {
     "name": "stdin",
     "output_type": "stream",
     "text": [
      "Enter a string to check if it is a palindrome or not: Malayalam\n"
     ]
    },
    {
     "name": "stdout",
     "output_type": "stream",
     "text": [
      "malayalam  is a Palindrome\n"
     ]
    }
   ],
   "source": [
    "String = input(\"Enter a string to check if it is a palindrome or not:\").lower()\n",
    "if String == String[::-1]:\n",
    "    print (String,\" is a Palindrome\")\n",
    "else:\n",
    "    print (String,\" is not a Palindrome\")\n"
   ]
  },
  {
   "cell_type": "markdown",
   "id": "50a2cf15-1cd3-4921-b0f1-2ecf52222c73",
   "metadata": {},
   "source": [
    "8. Create a program that takes a string as input and removes all the spaces from\n",
    "it. Print the modified string without spaces."
   ]
  },
  {
   "cell_type": "code",
   "execution_count": 22,
   "id": "5bfd9e73-f908-434e-b9cc-f83dc3d103ee",
   "metadata": {},
   "outputs": [
    {
     "name": "stdin",
     "output_type": "stream",
     "text": [
      "Enter a string to remove all the space:                  Meena                 \n"
     ]
    },
    {
     "name": "stdout",
     "output_type": "stream",
     "text": [
      "Meena\n"
     ]
    }
   ],
   "source": [
    "string = input(\"Enter a string to remove all the space:\")\n",
    "print(string.strip())"
   ]
  },
  {
   "cell_type": "code",
   "execution_count": null,
   "id": "a8c2ecfd-3c9d-4e51-a4ca-396021a244e6",
   "metadata": {},
   "outputs": [],
   "source": []
  }
 ],
 "metadata": {
  "kernelspec": {
   "display_name": "Python 3 (ipykernel)",
   "language": "python",
   "name": "python3"
  },
  "language_info": {
   "codemirror_mode": {
    "name": "ipython",
    "version": 3
   },
   "file_extension": ".py",
   "mimetype": "text/x-python",
   "name": "python",
   "nbconvert_exporter": "python",
   "pygments_lexer": "ipython3",
   "version": "3.10.8"
  }
 },
 "nbformat": 4,
 "nbformat_minor": 5
}
